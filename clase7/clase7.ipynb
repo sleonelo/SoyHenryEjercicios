{
 "cells": [
  {
   "cell_type": "code",
   "execution_count": 1,
   "metadata": {},
   "outputs": [
    {
     "name": "stdout",
     "output_type": "stream",
     "text": [
      "['/home/silvio/Escritorio/SoyHenryEjercicios/clase7', '/usr/lib/python310.zip', '/usr/lib/python3.10', '/usr/lib/python3.10/lib-dynload', '', '/home/silvio/.local/lib/python3.10/site-packages', '/usr/local/lib/python3.10/dist-packages', '/usr/lib/python3/dist-packages']\n"
     ]
    }
   ],
   "source": [
    "import sys\n",
    "print(sys.path)"
   ]
  },
  {
   "cell_type": "code",
   "execution_count": 3,
   "metadata": {},
   "outputs": [
    {
     "name": "stdout",
     "output_type": "stream",
     "text": [
      "['In', 'Out', '_', '__', '___', '__builtin__', '__builtins__', '__doc__', '__loader__', '__name__', '__package__', '__spec__', '__vsc_ipynb_file__', '_dh', '_i', '_i1', '_i2', '_i3', '_ih', '_ii', '_iii', '_oh', 'exit', 'get_ipython', 'open', 'quit', 'sys']\n"
     ]
    }
   ],
   "source": [
    "print(dir())"
   ]
  },
  {
   "cell_type": "code",
   "execution_count": 6,
   "metadata": {},
   "outputs": [
    {
     "name": "stdout",
     "output_type": "stream",
     "text": [
      "None\n"
     ]
    }
   ],
   "source": [
    "print(__loader__)"
   ]
  },
  {
   "attachments": {},
   "cell_type": "markdown",
   "metadata": {},
   "source": [
    "Crear la clase vehículo que contenga los atributos:\n",
    "Color\n",
    "Si es moto, auto, camioneta ó camión\n",
    "Cilindrada del motor"
   ]
  },
  {
   "cell_type": "code",
   "execution_count": 7,
   "metadata": {},
   "outputs": [],
   "source": [
    "class Vehiculo():\n",
    "    def __init__(self,color,cilindrada):\n",
    "        self.color=color       \n",
    "        self.cilindrada=cilindrada"
   ]
  },
  {
   "attachments": {},
   "cell_type": "markdown",
   "metadata": {},
   "source": [
    "A la clase Vehiculo creada en el punto 1, agregar los siguientes métodos:\n",
    "Acelerar\n",
    "Frenar\n",
    "Doblar"
   ]
  },
  {
   "cell_type": "code",
   "execution_count": 2,
   "metadata": {},
   "outputs": [
    {
     "name": "stdout",
     "output_type": "stream",
     "text": [
      "Help on module __future__:\n",
      "\n",
      "NAME\n",
      "    __future__ - Record of phased-in incompatible language changes.\n",
      "\n",
      "MODULE REFERENCE\n",
      "    https://docs.python.org/3.10/library/__future__.html\n",
      "    \n",
      "    The following documentation is automatically generated from the Python\n",
      "    source files.  It may be incomplete, incorrect or include features that\n",
      "    are considered implementation detail and may vary between Python\n",
      "    implementations.  When in doubt, consult the module reference at the\n",
      "    location listed above.\n",
      "\n",
      "DESCRIPTION\n",
      "    Each line is of the form:\n",
      "    \n",
      "        FeatureName = \"_Feature(\" OptionalRelease \",\" MandatoryRelease \",\"\n",
      "                                  CompilerFlag \")\"\n",
      "    \n",
      "    where, normally, OptionalRelease < MandatoryRelease, and both are 5-tuples\n",
      "    of the same form as sys.version_info:\n",
      "    \n",
      "        (PY_MAJOR_VERSION, # the 2 in 2.1.0a3; an int\n",
      "         PY_MINOR_VERSION, # the 1; an int\n",
      "         PY_MICRO_VERSION, # the 0; an int\n",
      "         PY_RELEASE_LEVEL, # \"alpha\", \"beta\", \"candidate\" or \"final\"; string\n",
      "         PY_RELEASE_SERIAL # the 3; an int\n",
      "        )\n",
      "    \n",
      "    OptionalRelease records the first release in which\n",
      "    \n",
      "        from __future__ import FeatureName\n",
      "    \n",
      "    was accepted.\n",
      "    \n",
      "    In the case of MandatoryReleases that have not yet occurred,\n",
      "    MandatoryRelease predicts the release in which the feature will become part\n",
      "    of the language.\n",
      "    \n",
      "    Else MandatoryRelease records when the feature became part of the language;\n",
      "    in releases at or after that, modules no longer need\n",
      "    \n",
      "        from __future__ import FeatureName\n",
      "    \n",
      "    to use the feature in question, but may continue to use such imports.\n",
      "    \n",
      "    MandatoryRelease may also be None, meaning that a planned feature got\n",
      "    dropped.\n",
      "    \n",
      "    Instances of class _Feature have two corresponding methods,\n",
      "    .getOptionalRelease() and .getMandatoryRelease().\n",
      "    \n",
      "    CompilerFlag is the (bitfield) flag that should be passed in the fourth\n",
      "    argument to the builtin function compile() to enable the feature in\n",
      "    dynamically compiled code.  This flag is stored in the .compiler_flag\n",
      "    attribute on _Future instances.  These values must match the appropriate\n",
      "    #defines of CO_xxx flags in Include/cpython/compile.h.\n",
      "    \n",
      "    No feature line is ever to be deleted from this file.\n",
      "\n",
      "DATA\n",
      "    __all__ = ['all_feature_names', 'nested_scopes', 'generators', 'divisi...\n",
      "    absolute_import = _Feature((2, 5, 0, 'alpha', 1), (3, 0, 0, 'alpha', 0...\n",
      "    all_feature_names = ['nested_scopes', 'generators', 'division', 'absol...\n",
      "    annotations = _Feature((3, 7, 0, 'beta', 1), (3, 11, 0, 'alpha', 0), 1...\n",
      "    barry_as_FLUFL = _Feature((3, 1, 0, 'alpha', 2), (4, 0, 0, 'alpha', 0)...\n",
      "    division = _Feature((2, 2, 0, 'alpha', 2), (3, 0, 0, 'alpha', 0), 1310...\n",
      "    generator_stop = _Feature((3, 5, 0, 'beta', 1), (3, 7, 0, 'alpha', 0),...\n",
      "    generators = _Feature((2, 2, 0, 'alpha', 1), (2, 3, 0, 'final', 0), 0)\n",
      "    nested_scopes = _Feature((2, 1, 0, 'beta', 1), (2, 2, 0, 'alpha', 0), ...\n",
      "    print_function = _Feature((2, 6, 0, 'alpha', 2), (3, 0, 0, 'alpha', 0)...\n",
      "    unicode_literals = _Feature((2, 6, 0, 'alpha', 2), (3, 0, 0, 'alpha', ...\n",
      "    with_statement = _Feature((2, 5, 0, 'alpha', 1), (2, 6, 0, 'alpha', 0)...\n",
      "\n",
      "FILE\n",
      "    /usr/lib/python3.10/__future__.py\n",
      "\n",
      "\n"
     ]
    }
   ],
   "source": [
    "import __future__\n",
    "help(__future__)"
   ]
  },
  {
   "attachments": {},
   "cell_type": "markdown",
   "metadata": {},
   "source": [
    "\n",
    "\n",
    "\n",
    "\n",
    "Instanciar 3 objetos de la clase vehículo y ejecutar sus métodos, probar luego el resultado\n",
    "\n",
    "Agregar a la clase Vehiculo, un método que muestre su estado, es decir, a que velocidad se encuentra y su dirección. Y otro método que muestre color, tipo y cilindrada\n",
    "\n",
    "Crear una clase que permita utilizar las funciones creadas en la práctica del módulo 6\n",
    "Verificar Primo\n",
    "Valor modal\n",
    "Conversión grados\n",
    "Factorial\n",
    "\n",
    "Probar las funciones incorporadas en la clase del punto 5\n",
    "\n",
    "Es necesario que la clase creada en el punto 5 contenga una lista, sobre la cual se aplquen las funciones incorporadas\n",
    "\n",
    "Crear un archivo .py aparte y ubicar allí la clase generada en el punto anterior. Luego realizar la importación del módulo y probar alguna de sus funciones"
   ]
  }
 ],
 "metadata": {
  "kernelspec": {
   "display_name": "Python 3",
   "language": "python",
   "name": "python3"
  },
  "language_info": {
   "codemirror_mode": {
    "name": "ipython",
    "version": 3
   },
   "file_extension": ".py",
   "mimetype": "text/x-python",
   "name": "python",
   "nbconvert_exporter": "python",
   "pygments_lexer": "ipython3",
   "version": "3.10.6"
  },
  "orig_nbformat": 4,
  "vscode": {
   "interpreter": {
    "hash": "916dbcbb3f70747c44a77c7bcd40155683ae19c65e1c03b4aa3499c5328201f1"
   }
  }
 },
 "nbformat": 4,
 "nbformat_minor": 2
}
