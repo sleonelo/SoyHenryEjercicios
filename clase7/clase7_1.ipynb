{
 "cells": [
  {
   "attachments": {},
   "cell_type": "markdown",
   "metadata": {},
   "source": [
    "Crear la clase vehículo que contenga los atributos:\n",
    "Color\n",
    "Si es moto, auto, camioneta ó camión\n",
    "Cilindrada del motor\n"
   ]
  },
  {
   "cell_type": "code",
   "execution_count": 1,
   "metadata": {},
   "outputs": [],
   "source": [
    "class Vehiculo():\n",
    "    def __init__(self, color, tipo, cilindrada) -> None:\n",
    "        self.color=color\n",
    "        self.tipo=tipo\n",
    "        self.cilindrada=cilindrada\n",
    "        "
   ]
  },
  {
   "attachments": {},
   "cell_type": "markdown",
   "metadata": {},
   "source": [
    "A la clase Vehiculo creada en el punto 1, agregar los siguientes métodos:\n",
    "Acelerar\n",
    "Frenar\n",
    "Doblar\n"
   ]
  },
  {
   "cell_type": "code",
   "execution_count": 11,
   "metadata": {},
   "outputs": [],
   "source": [
    "class Vehiculo():\n",
    "    def __init__(self, color, tipo, cilindrada) -> None:\n",
    "        self.color=color\n",
    "        self.tipo=tipo\n",
    "        self.cilindrada=cilindrada\n",
    "        self.velocidad=0\n",
    "        \n",
    "        \n",
    "    def acelerar(self, velocidad):\n",
    "        if velocidad==0:\n",
    "            self.velocidad=velocidad    \n",
    "        else: self.velocidad+=velocidad\n",
    "        print(f'la velocidad de {self.tipo} es de {self.velocidad}')\n",
    "        \n",
    "    def frenar(self, frenar):\n",
    "        if frenar:\n",
    "            self.acelerar(0)\n",
    "            \n",
    "    def doblar(self, giro):\n",
    "        print(f'el vehuculo {self.tipo} doblo hacia {giro}')\n",
    "        \n",
    "            \n",
    "            \n",
    "        "
   ]
  },
  {
   "cell_type": "code",
   "execution_count": 9,
   "metadata": {},
   "outputs": [
    {
     "name": "stdout",
     "output_type": "stream",
     "text": [
      "la velocidad de ciclomotor es de 150\n",
      "la velocidad de ciclomotor es de 0\n",
      "la velocidad de ciclomotor es de 150\n",
      "el vehuculo doblo hacia izquierda\n",
      "la velocidad de ciclomotor es de 300\n"
     ]
    }
   ],
   "source": [
    "motito=Vehiculo('verde', 'ciclomotor', '250')\n",
    "motito.acelerar(150)\n",
    "motito.frenar(True)\n",
    "motito.acelerar(150)\n",
    "motito.doblar('izquierda')\n",
    "motito.acelerar(150)\n",
    "motito.frenar(True)\n",
    "\n",
    "\n",
    "\n"
   ]
  },
  {
   "attachments": {},
   "cell_type": "markdown",
   "metadata": {},
   "source": [
    "Instanciar 3 objetos de la clase vehículo y ejecutar sus métodos, probar luego el resultado"
   ]
  },
  {
   "cell_type": "code",
   "execution_count": 12,
   "metadata": {},
   "outputs": [
    {
     "name": "stdout",
     "output_type": "stream",
     "text": [
      "la velocidad de ciclomotor es de 150\n",
      "la velocidad de ciclomotor es de 0\n",
      "la velocidad de ciclomotor es de 150\n",
      "el vehuculo ciclomotor doblo hacia izquierda\n",
      "la velocidad de ciclomotor es de 300\n",
      "la velocidad de ciclomotor es de 0\n",
      "la velocidad de automotor es de 150\n",
      "la velocidad de automotor es de 0\n",
      "la velocidad de automotor es de 150\n",
      "el vehuculo automotor doblo hacia izquierda\n",
      "la velocidad de automotor es de 300\n",
      "la velocidad de automotor es de 0\n",
      "la velocidad de camion es de 150\n",
      "la velocidad de camion es de 0\n",
      "la velocidad de camion es de 150\n",
      "el vehuculo camion doblo hacia izquierda\n",
      "la velocidad de camion es de 300\n",
      "la velocidad de camion es de 0\n"
     ]
    }
   ],
   "source": [
    "motito=Vehiculo('verde', 'ciclomotor', '250')\n",
    "motito.acelerar(150)\n",
    "motito.frenar(True)\n",
    "motito.acelerar(150)\n",
    "motito.doblar('izquierda')\n",
    "motito.acelerar(150)\n",
    "motito.frenar(True)\n",
    "\n",
    "auto=Vehiculo('negro', 'automotor', '250')\n",
    "auto.acelerar(150)\n",
    "auto.frenar(True)\n",
    "auto.acelerar(150)\n",
    "auto.doblar('izquierda')\n",
    "auto.acelerar(150)\n",
    "auto.frenar(True)\n",
    "\n",
    "camion=Vehiculo('verde', 'camion', '250')\n",
    "camion.acelerar(150)\n",
    "camion.frenar(True)\n",
    "camion.acelerar(150)\n",
    "camion.doblar('izquierda')\n",
    "camion.acelerar(150)\n",
    "camion.frenar(True)\n"
   ]
  },
  {
   "attachments": {},
   "cell_type": "markdown",
   "metadata": {},
   "source": [
    "Agregar a la clase Vehiculo, un método que muestre su estado, es decir, a que velocidad se encuentra y su dirección. Y otro método que muestre color, tipo y cilindrada"
   ]
  },
  {
   "cell_type": "code",
   "execution_count": null,
   "metadata": {},
   "outputs": [],
   "source": []
  },
  {
   "attachments": {},
   "cell_type": "markdown",
   "metadata": {},
   "source": [
    "\n",
    "\n",
    "\n",
    "\n",
    "\n",
    "\n",
    "Crear una clase que permita utilizar las funciones creadas en la práctica del módulo 6\n",
    "Verificar Primo\n",
    "Valor modal\n",
    "Conversión grados\n",
    "Factorial\n",
    "\n",
    "Probar las funciones incorporadas en la clase del punto 5\n",
    "\n",
    "Es necesario que la clase creada en el punto 5 contenga una lista, sobre la cual se aplquen las funciones incorporadas\n",
    "\n",
    "Crear un archivo .py aparte y ubicar allí la clase generada en el punto anterior. Luego realizar la importación del módulo y probar alguna de sus funciones"
   ]
  }
 ],
 "metadata": {
  "kernelspec": {
   "display_name": "Python 3",
   "language": "python",
   "name": "python3"
  },
  "language_info": {
   "codemirror_mode": {
    "name": "ipython",
    "version": 3
   },
   "file_extension": ".py",
   "mimetype": "text/x-python",
   "name": "python",
   "nbconvert_exporter": "python",
   "pygments_lexer": "ipython3",
   "version": "3.10.6"
  },
  "orig_nbformat": 4,
  "vscode": {
   "interpreter": {
    "hash": "916dbcbb3f70747c44a77c7bcd40155683ae19c65e1c03b4aa3499c5328201f1"
   }
  }
 },
 "nbformat": 4,
 "nbformat_minor": 2
}
