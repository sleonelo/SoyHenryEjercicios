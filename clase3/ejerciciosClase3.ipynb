{
 "cells": [
  {
   "attachments": {},
   "cell_type": "markdown",
   "metadata": {},
   "source": [
    "1\n",
    "Crear una variable que contenga un elemento del conjunto de números enteros y luego imprimir por pantalla si es mayor o menor a cero"
   ]
  },
  {
   "cell_type": "code",
   "execution_count": 3,
   "metadata": {},
   "outputs": [
    {
     "name": "stdout",
     "output_type": "stream",
     "text": [
      "Es negativo\n"
     ]
    }
   ],
   "source": [
    "num=-5\n",
    "if num < 0:\n",
    "    print(\"Es negativo\")\n",
    "elif num==0:\n",
    "    print(\"El numero es 0\")\n",
    "else: print(\"Es positivo\")"
   ]
  },
  {
   "attachments": {},
   "cell_type": "markdown",
   "metadata": {},
   "source": [
    "2\n",
    "Crear dos variables y un condicional que informe si son del mismo tipo de dato"
   ]
  },
  {
   "cell_type": "code",
   "execution_count": 7,
   "metadata": {},
   "outputs": [
    {
     "name": "stdout",
     "output_type": "stream",
     "text": [
      "No son el mismo tipo de dato\n"
     ]
    }
   ],
   "source": [
    "var1=1\n",
    "var2=2+1j\n",
    "if type(var1)==type(var2):\n",
    "    print(\"Son el mismo tipo de dato!\")\n",
    "else: print(\"No son el mismo tipo de dato\")"
   ]
  },
  {
   "attachments": {},
   "cell_type": "markdown",
   "metadata": {},
   "source": [
    "3\n",
    "Para los valores enteros del 1 al 20, imprimir por pantalla si es par o impar"
   ]
  },
  {
   "cell_type": "code",
   "execution_count": 1,
   "metadata": {},
   "outputs": [
    {
     "name": "stdout",
     "output_type": "stream",
     "text": [
      "par nro  0\n",
      "par nro  2\n",
      "par nro  4\n",
      "par nro  6\n",
      "par nro  8\n",
      "par nro  10\n",
      "par nro  12\n",
      "par nro  14\n",
      "par nro  16\n",
      "par nro  18\n"
     ]
    }
   ],
   "source": [
    "for i in range(0,20):\n",
    "    if i%2==0:\n",
    "        print('par nro ',i)"
   ]
  },
  {
   "attachments": {},
   "cell_type": "markdown",
   "metadata": {},
   "source": [
    "4\n",
    "En un ciclo for mostrar para los valores entre 0 y 5 el resultado de elevarlo a la potencia igual a 3"
   ]
  },
  {
   "cell_type": "code",
   "execution_count": 3,
   "metadata": {},
   "outputs": [
    {
     "name": "stdout",
     "output_type": "stream",
     "text": [
      "0\n",
      "1\n",
      "8\n",
      "27\n",
      "64\n",
      "6\n",
      "7\n",
      "8\n",
      "9\n",
      "10\n",
      "11\n",
      "12\n",
      "13\n",
      "14\n"
     ]
    }
   ],
   "source": [
    "for i in range (0,15):\n",
    "    while i<5:\n",
    "        print(i**3)\n",
    "        break\n",
    "    if i>5:\n",
    "        print (i)\n",
    "    "
   ]
  },
  {
   "attachments": {},
   "cell_type": "markdown",
   "metadata": {},
   "source": [
    "5\n",
    "Crear una variable que contenga un número entero y realizar un ciclo for la misma cantidad de ciclos"
   ]
  },
  {
   "cell_type": "code",
   "execution_count": 33,
   "metadata": {},
   "outputs": [
    {
     "name": "stdout",
     "output_type": "stream",
     "text": [
      "ciclo nro:  1\n",
      "ciclo nro:  2\n",
      "ciclo nro:  3\n",
      "ciclo nro:  4\n",
      "ciclo nro:  5\n"
     ]
    }
   ],
   "source": [
    "entero=5\n",
    "contador=1\n",
    "for i in range(entero):\n",
    "    print('ciclo nro: ',contador)\n",
    "    contador+=1"
   ]
  },
  {
   "attachments": {},
   "cell_type": "markdown",
   "metadata": {},
   "source": [
    "6\n",
    "Utilizar un ciclo while para realizar el factoreo de un número guardado en una variable, sólo si la variable contiene un número entero mayor a 0"
   ]
  },
  {
   "cell_type": "code",
   "execution_count": 60,
   "metadata": {},
   "outputs": [],
   "source": [
    "numero=40\n",
    "if numero==int() and numero>0:\n",
    "    for i in range (2,numero):\n",
    "        while numero%i==0:\n",
    "            print (numero,'|',i,'\\n')\n",
    "       "
   ]
  },
  {
   "attachments": {},
   "cell_type": "markdown",
   "metadata": {},
   "source": [
    "7\n",
    "Crear un ciclo for dentro de un ciclo while"
   ]
  },
  {
   "attachments": {},
   "cell_type": "markdown",
   "metadata": {},
   "source": [
    "8\n",
    "Crear un ciclo while dentro de un ciclo for"
   ]
  },
  {
   "attachments": {},
   "cell_type": "markdown",
   "metadata": {},
   "source": [
    "9\n",
    "Imprimir los números primos existentes entre 0 y 30"
   ]
  },
  {
   "cell_type": "code",
   "execution_count": 1,
   "metadata": {},
   "outputs": [
    {
     "name": "stdout",
     "output_type": "stream",
     "text": [
      "[1, 2, 3, 5, 7, 11, 13, 17, 19, 23, 29]\n"
     ]
    }
   ],
   "source": [
    "lista=[]\n",
    "lista1=[]\n",
    "num=30\n",
    "num1=num\n",
    "while num>2:\n",
    "    for i in range(num,0,-1):\n",
    "        #print(i)\n",
    "        for j in range((i-1),1,-1):\n",
    "            #print(i,\"|\",j)\n",
    "            if (i%j==0):\n",
    "                lista.append(i)\n",
    "                #print(lista)\n",
    "        num-=1\n",
    "    \n",
    "for k in range(1,num1):\n",
    "    if not k in (lista):\n",
    "        lista1.append(k)\n",
    "\n",
    "print(lista1)\n",
    "            \n",
    "        \n",
    "\n",
    "\n"
   ]
  },
  {
   "attachments": {},
   "cell_type": "markdown",
   "metadata": {},
   "source": [
    "10\n",
    "¿Se puede mejorar el proceso del punto 9? Utilizar las sentencias break y/ó continue para tal fin"
   ]
  },
  {
   "cell_type": "code",
   "execution_count": 11,
   "metadata": {},
   "outputs": [
    {
     "name": "stdout",
     "output_type": "stream",
     "text": [
      "2\n"
     ]
    }
   ],
   "source": [
    "k=1 #Contador de números primos\n",
    "print(2)\n",
    "i=3 #Número a probar\n",
    "\n",
    "while k<10:\n",
    "  for j in range(2,i):\n",
    "    #print(j)\n",
    "    if i%j == 0:\n",
    "      break\n",
    "    if j==i-1:\n",
    "      print(i)\n",
    "      k=k+1\n",
    "  i=i+1\n"
   ]
  },
  {
   "attachments": {},
   "cell_type": "markdown",
   "metadata": {},
   "source": [
    "11\n",
    "En los puntos 9 y 10, se diseño un código que encuentra números primos y además se lo optimizó. ¿Es posible saber en qué medida se optimizó?"
   ]
  },
  {
   "attachments": {},
   "cell_type": "markdown",
   "metadata": {},
   "source": [
    "12\n",
    "Si la cantidad de números que se evalúa es mayor a treinta, esa optimización crece?"
   ]
  },
  {
   "attachments": {},
   "cell_type": "markdown",
   "metadata": {},
   "source": [
    "13\n",
    "Aplicando continue, armar un ciclo while que solo imprima los valores divisibles por 12, dentro del rango de números de 100 a 300"
   ]
  },
  {
   "cell_type": "code",
   "execution_count": 2,
   "metadata": {},
   "outputs": [
    {
     "name": "stdout",
     "output_type": "stream",
     "text": [
      "108\n",
      "120\n",
      "132\n",
      "144\n",
      "156\n",
      "168\n",
      "180\n",
      "192\n",
      "204\n",
      "216\n",
      "228\n",
      "240\n",
      "252\n",
      "264\n",
      "276\n",
      "288\n",
      "300\n"
     ]
    }
   ],
   "source": [
    "\n",
    "while i<=300:\n",
    "    for i in range(100,301):\n",
    "        if i%12!=0:\n",
    "            continue\n",
    "        else: print(i)\n",
    "    break             \n",
    "        \n",
    "        \n",
    "        "
   ]
  },
  {
   "cell_type": "code",
   "execution_count": 17,
   "metadata": {},
   "outputs": [],
   "source": [
    "n=100\n",
    "while n<301:\n",
    "    if n%12==0:\n",
    "        print(n)\n",
    "        \n",
    "    n+=1\n"
   ]
  },
  {
   "attachments": {},
   "cell_type": "markdown",
   "metadata": {},
   "source": [
    "14\n",
    "Utilizar la función input() que permite hacer ingresos por teclado, para encontrar números primos y dar la opción al usario de buscar el siguiente"
   ]
  },
  {
   "cell_type": "code",
   "execution_count": 1,
   "metadata": {},
   "outputs": [
    {
     "ename": "ValueError",
     "evalue": "invalid literal for int() with base 10: ''",
     "output_type": "error",
     "traceback": [
      "\u001b[0;31m---------------------------------------------------------------------------\u001b[0m",
      "\u001b[0;31mValueError\u001b[0m                                Traceback (most recent call last)",
      "Cell \u001b[0;32mIn[1], line 1\u001b[0m\n\u001b[0;32m----> 1\u001b[0m numero_us\u001b[39m=\u001b[39m\u001b[39mint\u001b[39;49m(\u001b[39minput\u001b[39;49m(\u001b[39m\"\u001b[39;49m\u001b[39mIngrese un numero para saber la cantidad de numero primos que tiene por debajo... \u001b[39;49m\u001b[39m\"\u001b[39;49m))\n\u001b[1;32m      3\u001b[0m lista\u001b[39m=\u001b[39m[]\n\u001b[1;32m      4\u001b[0m lista1\u001b[39m=\u001b[39m[]\n",
      "\u001b[0;31mValueError\u001b[0m: invalid literal for int() with base 10: ''"
     ]
    }
   ],
   "source": [
    "numero_us=int(input(\"Ingrese un numero para saber la cantidad de numero primos que tiene por debajo... \"))\n",
    "\n",
    "lista=[]\n",
    "lista1=[]\n",
    "\n",
    "num1=numero_us\n",
    "while numero_us>2:\n",
    "    for i in range(numero_us,0,-1):\n",
    "        #print(i)\n",
    "        for j in range((i-1),1,-1):\n",
    "            #print(i,\"|\",j)\n",
    "            if (i%j==0):\n",
    "                lista.append(i)\n",
    "                #print(lista)\n",
    "        numero_us-=1\n",
    "    \n",
    "for k in range(1,num1):\n",
    "    if not k in (lista):\n",
    "        lista1.append(k)\n",
    "\n",
    "print(lista1)"
   ]
  },
  {
   "attachments": {},
   "cell_type": "markdown",
   "metadata": {},
   "source": [
    "15\n",
    "Crear un ciclo while que encuentre dentro del rango de 100 a 300 el primer número divisible por 3 y además múltiplo de 6"
   ]
  }
 ],
 "metadata": {
  "kernelspec": {
   "display_name": "Python 3",
   "language": "python",
   "name": "python3"
  },
  "language_info": {
   "codemirror_mode": {
    "name": "ipython",
    "version": 3
   },
   "file_extension": ".py",
   "mimetype": "text/x-python",
   "name": "python",
   "nbconvert_exporter": "python",
   "pygments_lexer": "ipython3",
   "version": "3.10.6 (main, Nov 14 2022, 16:10:14) [GCC 11.3.0]"
  },
  "orig_nbformat": 4,
  "vscode": {
   "interpreter": {
    "hash": "916dbcbb3f70747c44a77c7bcd40155683ae19c65e1c03b4aa3499c5328201f1"
   }
  }
 },
 "nbformat": 4,
 "nbformat_minor": 2
}
