{
 "cells": [
  {
   "cell_type": "code",
   "execution_count": 1,
   "metadata": {},
   "outputs": [
    {
     "name": "stdout",
     "output_type": "stream",
     "text": [
      "6\n"
     ]
    }
   ],
   "source": [
    "test_lambda=lambda x,y,z:x*y-z\n",
    "print(test_lambda(2,4,2))\n"
   ]
  },
  {
   "attachments": {},
   "cell_type": "markdown",
   "metadata": {},
   "source": [
    "Crear una función que reciba un número como parámetro y devuelva si True si es primo y False si no lo es"
   ]
  },
  {
   "cell_type": "code",
   "execution_count": 4,
   "metadata": {},
   "outputs": [
    {
     "name": "stdout",
     "output_type": "stream",
     "text": [
      "True\n"
     ]
    }
   ],
   "source": [
    "def primo(num):\n",
    "    num_prueba=2\n",
    "    if num==1 or num==2:\n",
    "        return True\n",
    "    else:\n",
    "        while (num) != (num_prueba):\n",
    "            # print(num_prueba)\n",
    "            # print(num)\n",
    "            if num%num_prueba==0:\n",
    "                num_prueba+=1\n",
    "                return False\n",
    "            else: num_prueba+=1 \n",
    "            return True\n",
    "        \n",
    "    \n",
    "print(primo(-15))"
   ]
  },
  {
   "cell_type": "code",
   "execution_count": 2,
   "metadata": {},
   "outputs": [
    {
     "name": "stdout",
     "output_type": "stream",
     "text": [
      "True\n"
     ]
    }
   ],
   "source": [
    "def verifica_primo(nro):\n",
    "    es_primo = True\n",
    "    for i in range(2, nro):\n",
    "        if nro % i == 0:\n",
    "            es_primo = False\n",
    "            break\n",
    "    return es_primo\n",
    "\n",
    "print(verifica_primo(-15))"
   ]
  },
  {
   "cell_type": "code",
   "execution_count": 8,
   "metadata": {},
   "outputs": [
    {
     "name": "stdout",
     "output_type": "stream",
     "text": [
      "True\n"
     ]
    }
   ],
   "source": [
    "def primo1(num):\n",
    "    primo=True\n",
    "    for i in range(2,num):\n",
    "        if num%i==0:\n",
    "            primo = False\n",
    "            break\n",
    "    return primo\n",
    "print(primo1(37))"
   ]
  },
  {
   "attachments": {},
   "cell_type": "markdown",
   "metadata": {},
   "source": [
    "Utilizando la función del punto 1, realizar otra función que reciba de parámetro una lista de números y devuelva sólo aquellos que son primos en otra lista"
   ]
  },
  {
   "cell_type": "code",
   "execution_count": 28,
   "metadata": {},
   "outputs": [
    {
     "name": "stdout",
     "output_type": "stream",
     "text": [
      "numero 1, es primo? True\n"
     ]
    }
   ],
   "source": [
    "lista_ejemplo=list(range(1,21))\n",
    "def lista_primo (lista):\n",
    "    for i in lista:\n",
    "        print(f'numero {i}, es primo? {primo1(i)}')\n",
    "        \n",
    "lista_primo(lista_ejemplo)"
   ]
  },
  {
   "attachments": {},
   "cell_type": "markdown",
   "metadata": {},
   "source": [
    "Crear una función que al recibir una lista de números, devuelva el que más se repite y cuántas veces lo hace. Si hay más de un \"más repetido\", que devuelva cualquiera"
   ]
  },
  {
   "cell_type": "code",
   "execution_count": 3,
   "metadata": {},
   "outputs": [],
   "source": [
    "from random import randint "
   ]
  },
  {
   "cell_type": "code",
   "execution_count": 72,
   "metadata": {},
   "outputs": [
    {
     "name": "stdout",
     "output_type": "stream",
     "text": [
      "[3, 2, 1, 2, 1, 6, 7, 5, 3, 6, 1, 3, 7, 4, 3, 7, 7, 9, 3, 5]\n",
      "el numero 3, esta 5 veces\n"
     ]
    }
   ],
   "source": [
    "lista_aleatorios=[]\n",
    "for i in range(1,21):\n",
    "    num=randint(1,9)\n",
    "    lista_aleatorios.append(num)\n",
    "print(lista_aleatorios)  \n",
    "\n",
    "def numeros(lista):\n",
    "    x=[] \n",
    "    y=[]\n",
    "    for i in range(max(lista)):\n",
    "        x.append(i)\n",
    "        y.append(lista.count(i))\n",
    "    index = y.index(max(y))\n",
    "    print(f'el numero {x[index]}, esta {max(y)} veces')\n",
    "\n",
    "numeros(lista_aleatorios)\n",
    "          \n"
   ]
  },
  {
   "attachments": {},
   "cell_type": "markdown",
   "metadata": {},
   "source": [
    "A la función del punto 3, agregar un parámetro más, que permita elegir si se requiere el menor o el mayor de los mas repetidos."
   ]
  },
  {
   "cell_type": "code",
   "execution_count": 36,
   "metadata": {},
   "outputs": [
    {
     "name": "stdout",
     "output_type": "stream",
     "text": [
      "[7, 8, 6, 5, 7, 4, 4, 7, 7, 3, 4, 7, 8, 9, 8, 8, 2, 6, 2, 4]\n",
      "el numero 7, esta 5 veces y es el que se repite mas veces\n"
     ]
    }
   ],
   "source": [
    "lista_aleatorios=[]\n",
    "for i in range(1,21):\n",
    "    num=randint(1,9)\n",
    "    lista_aleatorios.append(num)\n",
    "print(lista_aleatorios)  \n",
    "\n",
    "def numeros(lista,maxmin):\n",
    "    if maxmin==\"max\":\n",
    "        x=[] \n",
    "        y=[]\n",
    "        for i in range(1,max(lista)+1):\n",
    "            x.append(i)\n",
    "            y.append(lista.count(i))\n",
    "        index = y.index(max(y))\n",
    "        print(f'el numero {x[index]}, esta {max(y)} veces y es el que se repite mas veces')\n",
    "    else:\n",
    "        x=[] \n",
    "        y=[]\n",
    "        for j in range(1,max(lista)+1):\n",
    "            x.append(j)\n",
    "            y.append(lista.count(j))\n",
    "            print(x,y)\n",
    "        index = y.index(min(y))\n",
    "        print(f'el numero {x[index]}, esta {min(y)} veces y es el que se repite menos veces')\n",
    "\n",
    "numeros(lista_aleatorios, 'max')"
   ]
  },
  {
   "attachments": {},
   "cell_type": "markdown",
   "metadata": {},
   "source": [
    "Crear una función que convierta entre grados Celsius, Farenheit y Kelvin\n",
    "Fórmula 1 : (°C × 9/5) + 32 = °F\n",
    "Fórmula 2 : °C + 273.15 = °K\n",
    "Debe recibir 3 parámetros: el valor, la medida de orígen y la medida de destino"
   ]
  },
  {
   "cell_type": "code",
   "execution_count": 8,
   "metadata": {},
   "outputs": [
    {
     "name": "stdout",
     "output_type": "stream",
     "text": [
      "-441.66999999999996 grados\n"
     ]
    }
   ],
   "source": [
    "def conversora(valor,origen,destino):\n",
    "    if origen=='c' and destino=='f':\n",
    "        return (valor*9/5)+32 \n",
    "    if origen=='c' and destino=='k':\n",
    "        return valor+273.15 \n",
    "    if origen=='f' and destino=='c':\n",
    "        return (valor-32)*(5/9)\n",
    "    if origen=='f' and destino=='k':\n",
    "        return (valor-32)*(5/9)+273.15\n",
    "    if origen=='k'and destino=='c':\n",
    "        return valor-273.15\n",
    "    if origen=='k'and destino=='f':            \n",
    "        return 1.8*(valor-273.15)+32        \n",
    "    \n",
    "print(conversora(10,'k','f'), 'grados')\n",
    "    "
   ]
  },
  {
   "attachments": {},
   "cell_type": "markdown",
   "metadata": {},
   "source": [
    "Iterando una lista con los tres valores posibles de temperatura que recibe la función del punto 5, hacer un print para cada combinación de los mismos:"
   ]
  },
  {
   "cell_type": "code",
   "execution_count": 10,
   "metadata": {},
   "outputs": [
    {
     "name": "stdout",
     "output_type": "stream",
     "text": [
      "-441.66999999999996\n",
      "-263.15\n",
      "260.92777777777775\n",
      "-12.222222222222223\n",
      "50.0\n",
      "283.15\n"
     ]
    }
   ],
   "source": [
    "temps=[(10,'k','f'),(10,'k','c'),(10,'f','k'),(10,'f','c'),(10,'c','f'),(10,'c','k')]\n",
    "for i in temps:\n",
    "    print(conversora(i[0],i[1],i[2]))"
   ]
  },
  {
   "attachments": {},
   "cell_type": "markdown",
   "metadata": {},
   "source": [
    "Armar una función que devuelva el factorial de un número. Tener en cuenta que el usuario puede equivocarse y enviar de parámetro un número no entero o negativo"
   ]
  },
  {
   "cell_type": "code",
   "execution_count": 1,
   "metadata": {},
   "outputs": [],
   "source": [
    "while True:\n",
    "    try:\n",
    "        num= int(input('ingrese un numero: '))\n",
    "        if num>0:\n",
    "            print('ok')\n",
    "            break\n",
    "        else:\n",
    "            print('debe ser mayor a cero')\n",
    "            continue\n",
    "    except ValueError:\n",
    "        print('debe ingresar un numero entero')\n",
    "\n",
    "        "
   ]
  }
 ],
 "metadata": {
  "kernelspec": {
   "display_name": "Python 3",
   "language": "python",
   "name": "python3"
  },
  "language_info": {
   "codemirror_mode": {
    "name": "ipython",
    "version": 3
   },
   "file_extension": ".py",
   "mimetype": "text/x-python",
   "name": "python",
   "nbconvert_exporter": "python",
   "pygments_lexer": "ipython3",
   "version": "3.10.6"
  },
  "orig_nbformat": 4,
  "vscode": {
   "interpreter": {
    "hash": "916dbcbb3f70747c44a77c7bcd40155683ae19c65e1c03b4aa3499c5328201f1"
   }
  }
 },
 "nbformat": 4,
 "nbformat_minor": 2
}
