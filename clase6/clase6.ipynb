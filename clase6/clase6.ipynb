{
 "cells": [
  {
   "cell_type": "code",
   "execution_count": 1,
   "metadata": {},
   "outputs": [
    {
     "name": "stdout",
     "output_type": "stream",
     "text": [
      "6\n"
     ]
    }
   ],
   "source": [
    "test_lambda=lambda x,y,z:x*y-z\n",
    "print(test_lambda(2,4,2))\n"
   ]
  },
  {
   "attachments": {},
   "cell_type": "markdown",
   "metadata": {},
   "source": [
    "Crear una función que reciba un número como parámetro y devuelva si True si es primo y False si no lo es"
   ]
  },
  {
   "cell_type": "code",
   "execution_count": 59,
   "metadata": {},
   "outputs": [
    {
     "name": "stdout",
     "output_type": "stream",
     "text": [
      "True\n"
     ]
    }
   ],
   "source": [
    "def primo(num):\n",
    "    num_prueba=2\n",
    "    if num==1 or num==2:\n",
    "        return True\n",
    "    else:\n",
    "        while (num) != (num_prueba):\n",
    "            # print(num_prueba)\n",
    "            # print(num)\n",
    "            if num%num_prueba==0:\n",
    "                num_prueba+=1\n",
    "                return False\n",
    "            else: num_prueba+=1 \n",
    "            return True\n",
    "        \n",
    "    \n",
    "print(primo(-13))"
   ]
  },
  {
   "cell_type": "code",
   "execution_count": 66,
   "metadata": {},
   "outputs": [
    {
     "name": "stdout",
     "output_type": "stream",
     "text": [
      "False\n"
     ]
    }
   ],
   "source": [
    "def verifica_primo(nro):\n",
    "    es_primo = True\n",
    "    for i in range(2, nro):\n",
    "        if nro % i == 0:\n",
    "            es_primo = False\n",
    "            break\n",
    "    return es_primo\n",
    "\n",
    "print(verifica_primo(6))"
   ]
  },
  {
   "cell_type": "code",
   "execution_count": 8,
   "metadata": {},
   "outputs": [
    {
     "name": "stdout",
     "output_type": "stream",
     "text": [
      "True\n"
     ]
    }
   ],
   "source": [
    "def primo1(num):\n",
    "    primo=True\n",
    "    for i in range(2,num):\n",
    "        if num%i==0:\n",
    "            primo = False\n",
    "            break\n",
    "    return primo\n",
    "print(primo1(37))"
   ]
  },
  {
   "attachments": {},
   "cell_type": "markdown",
   "metadata": {},
   "source": [
    "Utilizando la función del punto 1, realizar otra función que reciba de parámetro una lista de números y devuelva sólo aquellos que son primos en otra lista"
   ]
  },
  {
   "cell_type": "code",
   "execution_count": 28,
   "metadata": {},
   "outputs": [
    {
     "name": "stdout",
     "output_type": "stream",
     "text": [
      "numero 1, es primo? True\n"
     ]
    }
   ],
   "source": [
    "lista_ejemplo=list(range(1,21))\n",
    "def lista_primo (lista):\n",
    "    for i in lista:\n",
    "        print(f'numero {i}, es primo? {primo1(i)}')\n",
    "        \n",
    "lista_primo(lista_ejemplo)"
   ]
  },
  {
   "attachments": {},
   "cell_type": "markdown",
   "metadata": {},
   "source": [
    "Crear una función que al recibir una lista de números, devuelva el que más se repite y cuántas veces lo hace. Si hay más de un \"más repetido\", que devuelva cualquiera"
   ]
  },
  {
   "cell_type": "code",
   "execution_count": 15,
   "metadata": {},
   "outputs": [],
   "source": [
    "from random import randint "
   ]
  },
  {
   "cell_type": "code",
   "execution_count": 72,
   "metadata": {},
   "outputs": [
    {
     "name": "stdout",
     "output_type": "stream",
     "text": [
      "[3, 2, 1, 2, 1, 6, 7, 5, 3, 6, 1, 3, 7, 4, 3, 7, 7, 9, 3, 5]\n",
      "el numero 3, esta 5 veces\n"
     ]
    }
   ],
   "source": [
    "lista_aleatorios=[]\n",
    "for i in range(1,21):\n",
    "    num=randint(1,9)\n",
    "    lista_aleatorios.append(num)\n",
    "print(lista_aleatorios)  \n",
    "\n",
    "def numeros(lista):\n",
    "    x=[] \n",
    "    y=[]\n",
    "    for i in range(max(lista)):\n",
    "        x.append(i)\n",
    "        y.append(lista.count(i))\n",
    "    index = y.index(max(y))\n",
    "    print(f'el numero {x[index]}, esta {max(y)} veces')\n",
    "\n",
    "numeros(lista_aleatorios)\n",
    "          \n"
   ]
  },
  {
   "attachments": {},
   "cell_type": "markdown",
   "metadata": {},
   "source": [
    "A la función del punto 3, agregar un parámetro más, que permita elegir si se requiere el menor o el mayor de los mas repetidos."
   ]
  },
  {
   "cell_type": "code",
   "execution_count": null,
   "metadata": {},
   "outputs": [],
   "source": [
    "lista_aleatorios=[]\n",
    "for i in range(1,21):\n",
    "    num=randint(1,9)\n",
    "    lista_aleatorios.append(num)\n",
    "print(lista_aleatorios)  \n",
    "\n",
    "def numeros(lista,maxmin):\n",
    "    x=[] \n",
    "    y=[]\n",
    "    for i in range(max(lista)):\n",
    "        x.append(i)\n",
    "        y.append(lista.count(i))\n",
    "    index = y.index(max(y))\n",
    "    print(f'el numero {x[index]}, esta {max(y)} veces')\n",
    "    \n",
    "    for j in range(min(lista)):\n",
    "        x.append(i)\n",
    "        y.append(lista.count(i))\n",
    "    index = y.index(min(y))\n",
    "    print(f'el numero {x[index]}, esta {min(y)} veces')\n",
    "\n",
    "numeros(lista_aleatorios, )"
   ]
  },
  {
   "attachments": {},
   "cell_type": "markdown",
   "metadata": {},
   "source": [
    "\n",
    "\n",
    "\n",
    "\n",
    "Crear una función que convierta entre grados Celsius, Farenheit y Kelvin\n",
    "Fórmula 1 : (°C × 9/5) + 32 = °F\n",
    "Fórmula 2 : °C + 273.15 = °K\n",
    "Debe recibir 3 parámetros: el valor, la medida de orígen y la medida de destino\n",
    "\n",
    "Iterando una lista con los tres valores posibles de temperatura que recibe la función del punto 5, hacer un print para cada combinación de los mismos:\n",
    "\n",
    "Armar una función que devuelva el factorial de un número. Tener en cuenta que el usuario puede equivocarse y enviar de parámetro un número no entero o negativo"
   ]
  }
 ],
 "metadata": {
  "kernelspec": {
   "display_name": "Python 3 (ipykernel)",
   "language": "python",
   "name": "python3"
  },
  "language_info": {
   "codemirror_mode": {
    "name": "ipython",
    "version": 3
   },
   "file_extension": ".py",
   "mimetype": "text/x-python",
   "name": "python",
   "nbconvert_exporter": "python",
   "pygments_lexer": "ipython3",
   "version": "3.10.6"
  },
  "orig_nbformat": 4
 },
 "nbformat": 4,
 "nbformat_minor": 2
}
